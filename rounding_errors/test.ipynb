{
 "cells": [
  {
   "cell_type": "code",
   "execution_count": 1,
   "metadata": {},
   "outputs": [],
   "source": [
    "import floatingPointSim as fps\n",
    "import numpy as np\n",
    "import matplotlib.pyplot as plt\n",
    "import scipy.stats as spstats\n",
    "from FixedPoint import FXfamily, FXnum"
   ]
  },
  {
   "cell_type": "code",
   "execution_count": null,
   "metadata": {},
   "outputs": [],
   "source": [
    "A = np.random.rand(1000000)*2-1\n",
    "plt.hist(A, 100)\n",
    "plt.grid(True)"
   ]
  },
  {
   "cell_type": "code",
   "execution_count": null,
   "metadata": {},
   "outputs": [],
   "source": [
    "rnd = np.vectorize(fps.roundToNearest)\n",
    "B = rnd(A, 7)"
   ]
  },
  {
   "cell_type": "code",
   "execution_count": null,
   "metadata": {},
   "outputs": [],
   "source": [
    "diff = B-A\n",
    "mean = np.mean(diff)\n",
    "stdev = np.sqrt(np.var(diff))\n",
    "x = np.linspace(min(diff), max(diff), 100)\n",
    "result = plt.hist(diff, 100)\n",
    "plt.grid(True)\n",
    "dx = result[1][1] - result[1][0]\n",
    "scale = len(diff)*dx\n",
    "plt.plot(x, spstats.norm.pdf(x, mean, stdev)*scale)\n",
    "print(\"Mean:  {:.2E}\".format(mean))\n",
    "print(\"StDev: {:.2E}\".format(stdev))"
   ]
  },
  {
   "cell_type": "code",
   "execution_count": null,
   "metadata": {},
   "outputs": [],
   "source": [
    "diff = (B-A)/abs(A)\n",
    "plt.hist(diff, 100)\n",
    "plt.grid(True)"
   ]
  },
  {
   "cell_type": "code",
   "execution_count": null,
   "metadata": {},
   "outputs": [],
   "source": [
    "def toFixed(val, nbits, round=True):\n",
    "    fam = FXfamily(nbits)\n",
    "    if round:\n",
    "        if (val > 0):\n",
    "            val = val + 2.0**(-1-nbits)\n",
    "        if (val < 0):\n",
    "            val = val - 2.0**(-1-nbits)\n",
    "    x = FXnum(val, fam)\n",
    "    return float(x)\n",
    "rndFxP = np.vectorize(toFixed)\n",
    "C = rndFxP(A, 7, round=True)"
   ]
  },
  {
   "cell_type": "code",
   "execution_count": null,
   "metadata": {},
   "outputs": [],
   "source": [
    "diff = C-A\n",
    "mean = np.mean(diff)\n",
    "stdev = np.sqrt(np.var(diff))\n",
    "result = plt.hist(diff, 100)\n",
    "plt.grid(True)\n",
    "print(\"Mean:  {:.2E}\".format(mean))\n",
    "print(\"StDev: {:.2E}\".format(stdev))"
   ]
  },
  {
   "cell_type": "code",
   "execution_count": null,
   "metadata": {},
   "outputs": [],
   "source": [
    "diff = (C-A)/abs(A)\n",
    "plt.hist(diff, 100)\n",
    "plt.grid(True)"
   ]
  },
  {
   "cell_type": "code",
   "execution_count": null,
   "metadata": {},
   "outputs": [],
   "source": [
    "gauss = np.random.normal(mean, stdev, len(A))\n",
    "x = np.linspace(min(gauss), max(gauss), 100)\n",
    "result = plt.hist(gauss, 100)\n",
    "plt.grid(True)\n",
    "dx = result[1][1] - result[1][0]\n",
    "scale = len(gauss)*dx\n",
    "plt.plot(x, spstats.norm.pdf(x, mean, stdev)*scale)"
   ]
  },
  {
   "cell_type": "code",
   "execution_count": null,
   "metadata": {},
   "outputs": [],
   "source": [
    "As = A * A\n",
    "Bs = rnd(B * B, 7)\n",
    "diff = Bs-As\n",
    "mean = np.mean(diff)\n",
    "stdev = np.sqrt(np.var(diff))\n",
    "x = np.linspace(min(diff), max(diff), 100)\n",
    "result = plt.hist(diff, 100)\n",
    "plt.grid(True)\n",
    "dx = result[1][1] - result[1][0]\n",
    "scale = len(diff)*dx\n",
    "plt.plot(x, spstats.norm.pdf(x, mean, stdev)*scale)\n",
    "print(\"Mean:  {:.2E}\".format(mean))\n",
    "print(\"StDev: {:.2E}\".format(stdev))"
   ]
  },
  {
   "cell_type": "code",
   "execution_count": null,
   "metadata": {},
   "outputs": [],
   "source": [
    "As = A * A * A\n",
    "Bs = rnd(rnd(B * B, 7) * B, 7)\n",
    "diff = Bs-As\n",
    "mean = np.mean(diff)\n",
    "stdev = np.sqrt(np.var(diff))\n",
    "x = np.linspace(min(diff), max(diff), 100)\n",
    "result = plt.hist(diff, 100)\n",
    "plt.grid(True)\n",
    "dx = result[1][1] - result[1][0]\n",
    "scale = len(diff)*dx\n",
    "plt.plot(x, spstats.norm.pdf(x, mean, stdev)*scale)\n",
    "print(\"Mean:  {:.2E}\".format(mean))\n",
    "print(\"StDev: {:.2E}\".format(stdev))"
   ]
  },
  {
   "cell_type": "markdown",
   "metadata": {},
   "source": [
    "# Some serious statistics..."
   ]
  },
  {
   "cell_type": "code",
   "execution_count": 2,
   "metadata": {},
   "outputs": [
    {
     "data": {
      "text/plain": [
       "(array([-10,  -9,  -8,  -7,  -6,  -5,  -4,  -3,  -2,  -1,   0,   1,   2,\n",
       "          3,   4,   5,   6,   7,   8,   9,  10]),\n",
       " array([0.74947842, 0.75031653, 0.74949082, 0.74854362, 0.7504426 ,\n",
       "        0.7492776 , 0.74869917, 0.74882376, 0.75087692, 0.74882626,\n",
       "        1.        , 0.74882626, 0.75087692, 0.74882376, 0.74869917,\n",
       "        0.7492776 , 0.7504426 , 0.74854362, 0.74949082, 0.75031653,\n",
       "        0.74947842]),\n",
       " <matplotlib.collections.LineCollection at 0x7ff678a7bd90>,\n",
       " <matplotlib.lines.Line2D at 0x7ff678a7bd60>)"
      ]
     },
     "execution_count": 2,
     "metadata": {},
     "output_type": "execute_result"
    },
    {
     "data": {
      "image/png": "[encoded data removed]",
      "text/plain": [
       "<Figure size 432x288 with 1 Axes>"
      ]
     },
     "metadata": {
      "needs_background": "light"
     },
     "output_type": "display_data"
    }
   ],
   "source": [
    "A = np.random.rand(100000)\n",
    "#A = np.random.rand(100000)*2-1\n",
    "plt.acorr(A)"
   ]
  },
  {
   "cell_type": "code",
   "execution_count": null,
   "metadata": {},
   "outputs": [],
   "source": [
    "rnd = np.vectorize(fps.roundToNearest)\n",
    "B = rnd(A, 5)\n",
    "plt.acorr(B-A)"
   ]
  },
  {
   "cell_type": "code",
   "execution_count": 3,
   "metadata": {},
   "outputs": [],
   "source": [
    "C = list(range(100000))\n",
    "C[0] = A[0]\n",
    "for i in range(1, 100000):\n",
    "    C[i] = C[i-1] * A[i] + 0.5 * A[i]"
   ]
  },
  {
   "cell_type": "code",
   "execution_count": 4,
   "metadata": {},
   "outputs": [],
   "source": [
    "D = list(range(100000))\n",
    "D[0] = fps.roundToNearest(A[0],3)\n",
    "for i in range(1, 100000):\n",
    "    tmp1 = fps.roundToNearest(C[i-1], 3) * fps.roundToNearest(A[i], 3)\n",
    "    tmp2 = 0.5 * fps.roundToNearest(A[i], 3)\n",
    "    D[i] = fps.roundToNearest(tmp1 + tmp2, 3)"
   ]
  },
  {
   "cell_type": "code",
   "execution_count": 5,
   "metadata": {},
   "outputs": [
    {
     "name": "stdout",
     "output_type": "stream",
     "text": [
      "0.017380853729178747\n"
     ]
    },
    {
     "data": {
      "text/plain": [
       "(array([-10,  -9,  -8,  -7,  -6,  -5,  -4,  -3,  -2,  -1,   0,   1,   2,\n",
       "          3,   4,   5,   6,   7,   8,   9,  10]),\n",
       " array([ 2.50042686e-04,  4.21521511e-03, -2.81943282e-03,  5.14145620e-03,\n",
       "        -9.51100619e-04,  4.93030429e-03, -2.17496948e-03, -3.42673965e-05,\n",
       "         7.94979674e-03,  2.50909391e-02,  1.00000000e+00,  2.50909391e-02,\n",
       "         7.94979674e-03, -3.42673965e-05, -2.17496948e-03,  4.93030429e-03,\n",
       "        -9.51100619e-04,  5.14145620e-03, -2.81943282e-03,  4.21521511e-03,\n",
       "         2.50042686e-04]),\n",
       " <matplotlib.collections.LineCollection at 0x7ff6769d7b50>,\n",
       " <matplotlib.lines.Line2D at 0x7ff6769d79d0>)"
      ]
     },
     "execution_count": 5,
     "metadata": {},
     "output_type": "execute_result"
    },
    {
     "data": {
      "image/png": "[encoded data removed]",
      "text/plain": [
       "<Figure size 432x288 with 1 Axes>"
      ]
     },
     "metadata": {
      "needs_background": "light"
     },
     "output_type": "display_data"
    }
   ],
   "source": [
    "err = np.array(D)-np.array(C)\n",
    "print(err[100000-1])\n",
    "plt.acorr(err)"
   ]
  },
  {
   "cell_type": "code",
   "execution_count": 6,
   "metadata": {},
   "outputs": [],
   "source": [
    "def toFixedToEven(val, nbits):\n",
    "    if (val < 0):\n",
    "        absval = -val\n",
    "    else:\n",
    "        absval = val\n",
    "    fam = FXfamily(nbits)\n",
    "    x1 = FXnum(absval, fam)\n",
    "    x2 = FXnum(absval + 2.0**(-1-nbits), fam)\n",
    "    if (abs(float(x1)-absval) < abs(float(x2)-absval)):\n",
    "        x = x1\n",
    "    elif (abs(float(x1)-absval) > abs(float(x2)-absval)):\n",
    "        x = x2\n",
    "    else:\n",
    "        fam2 = FXfamily(nbits+1)\n",
    "        lastbit = FXnum(absval, fam2).toBinaryString()[-2]\n",
    "        if (lastbit == '0'):\n",
    "            x = FXnum(absval, fam)\n",
    "        else:\n",
    "            x = FXnum(absval + 2.0**(-1-nbits), fam)\n",
    "    if (val < 0):\n",
    "        x = -x\n",
    "    return float(x)"
   ]
  },
  {
   "cell_type": "code",
   "execution_count": 7,
   "metadata": {},
   "outputs": [],
   "source": [
    "E = list(range(100000))\n",
    "E[0] = toFixedToEven(A[0],3)\n",
    "for i in range(1, 100000):\n",
    "    tmp1 = toFixedToEven(C[i-1], 3) * toFixedToEven(A[i], 3)\n",
    "    tmp2 = 0.5 * toFixedToEven(A[i], 3)\n",
    "    E[i] = toFixedToEven(tmp1 + tmp2, 3)"
   ]
  },
  {
   "cell_type": "code",
   "execution_count": 8,
   "metadata": {},
   "outputs": [
    {
     "name": "stdout",
     "output_type": "stream",
     "text": [
      "-0.04511914627082125\n"
     ]
    },
    {
     "data": {
      "text/plain": [
       "(array([-10,  -9,  -8,  -7,  -6,  -5,  -4,  -3,  -2,  -1,   0,   1,   2,\n",
       "          3,   4,   5,   6,   7,   8,   9,  10]),\n",
       " array([-4.47477673e-04, -1.63545192e-03, -1.63060416e-03, -4.86501419e-03,\n",
       "         2.34022820e-03,  8.04576057e-04, -2.54471313e-03, -2.07858483e-03,\n",
       "         7.38147378e-04,  1.17305454e-02,  1.00000000e+00,  1.17305454e-02,\n",
       "         7.38147378e-04, -2.07858483e-03, -2.54471313e-03,  8.04576057e-04,\n",
       "         2.34022820e-03, -4.86501419e-03, -1.63060416e-03, -1.63545192e-03,\n",
       "        -4.47477673e-04]),\n",
       " <matplotlib.collections.LineCollection at 0x7ff6764db1c0>,\n",
       " <matplotlib.lines.Line2D at 0x7ff6764db100>)"
      ]
     },
     "execution_count": 8,
     "metadata": {},
     "output_type": "execute_result"
    },
    {
     "data": {
      "image/png": "[encoded data removed]",
      "text/plain": [
       "<Figure size 432x288 with 1 Axes>"
      ]
     },
     "metadata": {
      "needs_background": "light"
     },
     "output_type": "display_data"
    }
   ],
   "source": [
    "err = np.array(E)-np.array(C)\n",
    "print(err[100000-1])\n",
    "plt.acorr(err)"
   ]
  },
  {
   "cell_type": "code",
   "execution_count": 23,
   "metadata": {},
   "outputs": [],
   "source": [
    "import math\n",
    "F = A * math.e"
   ]
  },
  {
   "cell_type": "code",
   "execution_count": 24,
   "metadata": {},
   "outputs": [],
   "source": [
    "G = list(range(100000))\n",
    "G[0] = F[0]\n",
    "for i in range(1, 100000):\n",
    "    G[i] = G[i-1] * F[i]"
   ]
  },
  {
   "cell_type": "code",
   "execution_count": 26,
   "metadata": {},
   "outputs": [],
   "source": [
    "H = list(range(100000))\n",
    "H[0] = fps.roundToNearest(F[0],3)\n",
    "for i in range(1, 100000):\n",
    "    tmp1 = fps.roundToNearest(H[i-1], 3) * fps.roundToNearest(F[i], 3)\n",
    "    H[i] = fps.roundToNearest(tmp1, 3)"
   ]
  },
  {
   "cell_type": "code",
   "execution_count": 31,
   "metadata": {},
   "outputs": [
    {
     "name": "stdout",
     "output_type": "stream",
     "text": [
      "-4.551152610304151e-57\n"
     ]
    },
    {
     "data": {
      "text/plain": [
       "(array([-100,  -99,  -98,  -97,  -96,  -95,  -94,  -93,  -92,  -91,  -90,\n",
       "         -89,  -88,  -87,  -86,  -85,  -84,  -83,  -82,  -81,  -80,  -79,\n",
       "         -78,  -77,  -76,  -75,  -74,  -73,  -72,  -71,  -70,  -69,  -68,\n",
       "         -67,  -66,  -65,  -64,  -63,  -62,  -61,  -60,  -59,  -58,  -57,\n",
       "         -56,  -55,  -54,  -53,  -52,  -51,  -50,  -49,  -48,  -47,  -46,\n",
       "         -45,  -44,  -43,  -42,  -41,  -40,  -39,  -38,  -37,  -36,  -35,\n",
       "         -34,  -33,  -32,  -31,  -30,  -29,  -28,  -27,  -26,  -25,  -24,\n",
       "         -23,  -22,  -21,  -20,  -19,  -18,  -17,  -16,  -15,  -14,  -13,\n",
       "         -12,  -11,  -10,   -9,   -8,   -7,   -6,   -5,   -4,   -3,   -2,\n",
       "          -1,    0,    1,    2,    3,    4,    5,    6,    7,    8,    9,\n",
       "          10,   11,   12,   13,   14,   15,   16,   17,   18,   19,   20,\n",
       "          21,   22,   23,   24,   25,   26,   27,   28,   29,   30,   31,\n",
       "          32,   33,   34,   35,   36,   37,   38,   39,   40,   41,   42,\n",
       "          43,   44,   45,   46,   47,   48,   49,   50,   51,   52,   53,\n",
       "          54,   55,   56,   57,   58,   59,   60,   61,   62,   63,   64,\n",
       "          65,   66,   67,   68,   69,   70,   71,   72,   73,   74,   75,\n",
       "          76,   77,   78,   79,   80,   81,   82,   83,   84,   85,   86,\n",
       "          87,   88,   89,   90,   91,   92,   93,   94,   95,   96,   97,\n",
       "          98,   99,  100]),\n",
       " array([3.35565887e-06, 4.25708508e-06, 4.74685518e-06, 4.86353815e-06,\n",
       "        5.24833225e-06, 6.48557229e-06, 7.27051262e-06, 8.16915348e-06,\n",
       "        7.90458156e-06, 8.25057228e-06, 8.82580769e-06, 9.43632233e-06,\n",
       "        7.84739315e-06, 6.69048155e-06, 6.00005959e-06, 5.49995595e-06,\n",
       "        6.14607674e-06, 7.91284777e-06, 1.01794361e-05, 1.06614958e-05,\n",
       "        1.16440481e-05, 1.44376042e-05, 1.79891179e-05, 2.45367642e-05,\n",
       "        3.31877555e-05, 4.60225263e-05, 5.92598157e-05, 7.37070866e-05,\n",
       "        9.25289340e-05, 1.14183835e-04, 1.42208884e-04, 1.59450922e-04,\n",
       "        1.86330622e-04, 1.98633121e-04, 1.97270965e-04, 2.00355867e-04,\n",
       "        1.95923448e-04, 1.98767389e-04, 1.52109130e-04, 1.39353245e-04,\n",
       "        1.43936917e-04, 1.50242392e-04, 1.56576449e-04, 1.45706027e-04,\n",
       "        1.68356556e-04, 1.76894706e-04, 1.89155110e-04, 2.02796316e-04,\n",
       "        2.04552535e-04, 2.44606921e-04, 3.18343124e-04, 4.58416952e-04,\n",
       "        6.67375054e-04, 1.06038660e-03, 1.63311982e-03, 2.07949148e-03,\n",
       "        3.28333370e-03, 3.20856443e-03, 3.85659615e-03, 4.47164953e-03,\n",
       "        5.92671511e-03, 8.77057620e-03, 9.56589252e-03, 1.11029085e-02,\n",
       "        1.05683967e-02, 1.17546408e-02, 1.12057639e-02, 1.12858025e-02,\n",
       "        1.26905004e-02, 1.42776370e-02, 1.98928150e-02, 2.04913995e-02,\n",
       "        2.36673892e-02, 2.47041192e-02, 2.51293900e-02, 2.49113015e-02,\n",
       "        2.47974545e-02, 2.61916058e-02, 3.04489381e-02, 4.15336607e-02,\n",
       "        5.12008789e-02, 6.72808168e-02, 8.38523211e-02, 1.12945233e-01,\n",
       "        1.37442997e-01, 1.56641007e-01, 2.25891029e-01, 2.46341874e-01,\n",
       "        3.02775116e-01, 3.21347435e-01, 3.71290142e-01, 4.62424060e-01,\n",
       "        4.46454344e-01, 4.88787967e-01, 4.72932000e-01, 6.27701607e-01,\n",
       "        6.77191061e-01, 7.04895398e-01, 7.54804450e-01, 7.99285048e-01,\n",
       "        1.00000000e+00, 7.99285048e-01, 7.54804450e-01, 7.04895398e-01,\n",
       "        6.77191061e-01, 6.27701607e-01, 4.72932000e-01, 4.88787967e-01,\n",
       "        4.46454344e-01, 4.62424060e-01, 3.71290142e-01, 3.21347435e-01,\n",
       "        3.02775116e-01, 2.46341874e-01, 2.25891029e-01, 1.56641007e-01,\n",
       "        1.37442997e-01, 1.12945233e-01, 8.38523211e-02, 6.72808168e-02,\n",
       "        5.12008789e-02, 4.15336607e-02, 3.04489381e-02, 2.61916058e-02,\n",
       "        2.47974545e-02, 2.49113015e-02, 2.51293900e-02, 2.47041192e-02,\n",
       "        2.36673892e-02, 2.04913995e-02, 1.98928150e-02, 1.42776370e-02,\n",
       "        1.26905004e-02, 1.12858025e-02, 1.12057639e-02, 1.17546408e-02,\n",
       "        1.05683967e-02, 1.11029085e-02, 9.56589252e-03, 8.77057620e-03,\n",
       "        5.92671511e-03, 4.47164953e-03, 3.85659615e-03, 3.20856443e-03,\n",
       "        3.28333370e-03, 2.07949148e-03, 1.63311982e-03, 1.06038660e-03,\n",
       "        6.67375054e-04, 4.58416952e-04, 3.18343124e-04, 2.44606921e-04,\n",
       "        2.04552535e-04, 2.02796316e-04, 1.89155110e-04, 1.76894706e-04,\n",
       "        1.68356556e-04, 1.45706027e-04, 1.56576449e-04, 1.50242392e-04,\n",
       "        1.43936917e-04, 1.39353245e-04, 1.52109130e-04, 1.98767389e-04,\n",
       "        1.95923448e-04, 2.00355867e-04, 1.97270965e-04, 1.98633121e-04,\n",
       "        1.86330622e-04, 1.59450922e-04, 1.42208884e-04, 1.14183835e-04,\n",
       "        9.25289340e-05, 7.37070866e-05, 5.92598157e-05, 4.60225263e-05,\n",
       "        3.31877555e-05, 2.45367642e-05, 1.79891179e-05, 1.44376042e-05,\n",
       "        1.16440481e-05, 1.06614958e-05, 1.01794361e-05, 7.91284777e-06,\n",
       "        6.14607674e-06, 5.49995595e-06, 6.00005959e-06, 6.69048155e-06,\n",
       "        7.84739315e-06, 9.43632233e-06, 8.82580769e-06, 8.25057228e-06,\n",
       "        7.90458156e-06, 8.16915348e-06, 7.27051262e-06, 6.48557229e-06,\n",
       "        5.24833225e-06, 4.86353815e-06, 4.74685518e-06, 4.25708508e-06,\n",
       "        3.35565887e-06]),\n",
       " <matplotlib.collections.LineCollection at 0x7ff67512f0d0>,\n",
       " <matplotlib.lines.Line2D at 0x7ff67512f040>)"
      ]
     },
     "execution_count": 31,
     "metadata": {},
     "output_type": "execute_result"
    },
    {
     "data": {
      "image/png": "[encoded data removed]",
      "text/plain": [
       "<Figure size 432x288 with 1 Axes>"
      ]
     },
     "metadata": {
      "needs_background": "light"
     },
     "output_type": "display_data"
    }
   ],
   "source": [
    "err = np.array(H)-np.array(G)\n",
    "print(err[100000-1])\n",
    "plt.acorr(err, maxlags=100)"
   ]
  },
  {
   "cell_type": "code",
   "execution_count": 28,
   "metadata": {},
   "outputs": [],
   "source": [
    "I = A*A + A*A"
   ]
  },
  {
   "cell_type": "code",
   "execution_count": 29,
   "metadata": {},
   "outputs": [],
   "source": [
    "rnd = np.vectorize(fps.roundToNearest)\n",
    "J = rnd(rnd(A, 3) * rnd(A, 3) + rnd(A, 3) * rnd(A, 3), 3)"
   ]
  },
  {
   "cell_type": "code",
   "execution_count": 33,
   "metadata": {},
   "outputs": [
    {
     "data": {
      "text/plain": [
       "(array([-10,  -9,  -8,  -7,  -6,  -5,  -4,  -3,  -2,  -1,   0,   1,   2,\n",
       "          3,   4,   5,   6,   7,   8,   9,  10]),\n",
       " array([ 6.72169463e-03, -4.46434628e-03, -8.32051727e-04,  2.64743114e-03,\n",
       "        -2.25663102e-03,  4.66035605e-03,  3.11949526e-03, -2.54538091e-03,\n",
       "         4.60554091e-03, -3.28786663e-04,  1.00000000e+00, -3.28786663e-04,\n",
       "         4.60554091e-03, -2.54538091e-03,  3.11949526e-03,  4.66035605e-03,\n",
       "        -2.25663102e-03,  2.64743114e-03, -8.32051727e-04, -4.46434628e-03,\n",
       "         6.72169463e-03]),\n",
       " <matplotlib.collections.LineCollection at 0x7ff67516d430>,\n",
       " <matplotlib.lines.Line2D at 0x7ff67516d700>)"
      ]
     },
     "execution_count": 33,
     "metadata": {},
     "output_type": "execute_result"
    },
    {
     "data": {
      "image/png": "[encoded data removed]",
      "text/plain": [
       "<Figure size 432x288 with 1 Axes>"
      ]
     },
     "metadata": {
      "needs_background": "light"
     },
     "output_type": "display_data"
    }
   ],
   "source": [
    "err = J-I\n",
    "plt.acorr(err)"
   ]
  },
  {
   "cell_type": "code",
   "execution_count": 34,
   "metadata": {},
   "outputs": [
    {
     "data": {
      "text/plain": [
       "(array([ 1152.,  3488.,  6398.,  9751., 47903., 17186.,  7218.,  4109.,\n",
       "         1875.,   920.]),\n",
       " array([-0.14257579, -0.11288874, -0.08320168, -0.05351463, -0.02382757,\n",
       "         0.00585948,  0.03554654,  0.06523359,  0.09492065,  0.1246077 ,\n",
       "         0.15429475]),\n",
       " <a list of 10 Patch objects>)"
      ]
     },
     "execution_count": 34,
     "metadata": {},
     "output_type": "execute_result"
    },
    {
     "data": {
      "image/png": "[encoded data removed]",
      "text/plain": [
       "<Figure size 432x288 with 1 Axes>"
      ]
     },
     "metadata": {
      "needs_background": "light"
     },
     "output_type": "display_data"
    }
   ],
   "source": [
    "plt.hist(err)"
   ]
  },
  {
   "cell_type": "code",
   "execution_count": null,
   "metadata": {},
   "outputs": [],
   "source": []
  }
 ],
 "metadata": {
  "kernelspec": {
   "display_name": "Python 3",
   "language": "python",
   "name": "python3"
  },
  "language_info": {
   "codemirror_mode": {
    "name": "ipython",
    "version": 3
   },
   "file_extension": ".py",
   "mimetype": "text/x-python",
   "name": "python",
   "nbconvert_exporter": "python",
   "pygments_lexer": "ipython3",
   "version": "3.8.2"
  }
 },
 "nbformat": 4,
 "nbformat_minor": 2
}
